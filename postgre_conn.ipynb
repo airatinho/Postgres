{
 "cells": [
  {
   "cell_type": "code",
   "execution_count": 354,
   "metadata": {
    "collapsed": true
   },
   "outputs": [],
   "source": [
    "%reset"
   ]
  },
  {
   "cell_type": "code",
   "execution_count": 355,
   "outputs": [],
   "source": [
    "import psycopg2\n",
    "import pandas as pd\n",
    "import numpy as np"
   ],
   "metadata": {
    "collapsed": false,
    "pycharm": {
     "name": "#%%\n"
    }
   }
  },
  {
   "cell_type": "code",
   "execution_count": 357,
   "outputs": [],
   "source": [
    "con=psycopg2.connect(\n",
    "    host=\"hostname\",\n",
    "    port=15432,\n",
    "    database=\"database\",\n",
    "    user=\"username\",\n",
    "    password=\"password\",\n",
    ")\n"
   ],
   "metadata": {
    "collapsed": false,
    "pycharm": {
     "name": "#%%\n"
    }
   }
  },
  {
   "cell_type": "code",
   "execution_count": 358,
   "outputs": [
    {
     "data": {
      "text/plain": "   communication_id  site_id  visitor_id           date_time\n0         460453730    16649   615231236 2018-04-05 17:35:16\n1           2092162    16649   658040990 2018-04-07 16:48:44\n2           2061609    16649   848021975 2018-04-02 09:20:20\n3         458670105    30374  1225592954 2018-04-02 18:38:03\n4           2092238    16649  1235856228 2018-04-07 17:09:21",
      "text/html": "<div>\n<style scoped>\n    .dataframe tbody tr th:only-of-type {\n        vertical-align: middle;\n    }\n\n    .dataframe tbody tr th {\n        vertical-align: top;\n    }\n\n    .dataframe thead th {\n        text-align: right;\n    }\n</style>\n<table border=\"1\" class=\"dataframe\">\n  <thead>\n    <tr style=\"text-align: right;\">\n      <th></th>\n      <th>communication_id</th>\n      <th>site_id</th>\n      <th>visitor_id</th>\n      <th>date_time</th>\n    </tr>\n  </thead>\n  <tbody>\n    <tr>\n      <th>0</th>\n      <td>460453730</td>\n      <td>16649</td>\n      <td>615231236</td>\n      <td>2018-04-05 17:35:16</td>\n    </tr>\n    <tr>\n      <th>1</th>\n      <td>2092162</td>\n      <td>16649</td>\n      <td>658040990</td>\n      <td>2018-04-07 16:48:44</td>\n    </tr>\n    <tr>\n      <th>2</th>\n      <td>2061609</td>\n      <td>16649</td>\n      <td>848021975</td>\n      <td>2018-04-02 09:20:20</td>\n    </tr>\n    <tr>\n      <th>3</th>\n      <td>458670105</td>\n      <td>30374</td>\n      <td>1225592954</td>\n      <td>2018-04-02 18:38:03</td>\n    </tr>\n    <tr>\n      <th>4</th>\n      <td>2092238</td>\n      <td>16649</td>\n      <td>1235856228</td>\n      <td>2018-04-07 17:09:21</td>\n    </tr>\n  </tbody>\n</table>\n</div>"
     },
     "execution_count": 358,
     "metadata": {},
     "output_type": "execute_result"
    }
   ],
   "source": [
    "querry_comm=\"\"\"select * from communications\"\"\"\n",
    "communications=pd.read_sql(querry_comm,con)\n",
    "communications.head(5)"
   ],
   "metadata": {
    "collapsed": false,
    "pycharm": {
     "name": "#%%\n"
    }
   }
  },
  {
   "cell_type": "code",
   "execution_count": 359,
   "outputs": [
    {
     "data": {
      "text/plain": "   visitor_session_id  site_id  visitor_id           date_time  campaign_id\n0          2038323227    16649  1322630246 2018-04-03 22:39:12        44843\n1          2043591207    16649  1325892110 2018-04-04 19:45:39       116083\n2          2026999821    16649  1315616600 2018-04-02 08:56:25       116083\n3          2038059953    30374  1322459808 2018-04-03 21:38:44       116085\n4          2030418799    16649  1317685222 2018-04-02 17:02:44       116083",
      "text/html": "<div>\n<style scoped>\n    .dataframe tbody tr th:only-of-type {\n        vertical-align: middle;\n    }\n\n    .dataframe tbody tr th {\n        vertical-align: top;\n    }\n\n    .dataframe thead th {\n        text-align: right;\n    }\n</style>\n<table border=\"1\" class=\"dataframe\">\n  <thead>\n    <tr style=\"text-align: right;\">\n      <th></th>\n      <th>visitor_session_id</th>\n      <th>site_id</th>\n      <th>visitor_id</th>\n      <th>date_time</th>\n      <th>campaign_id</th>\n    </tr>\n  </thead>\n  <tbody>\n    <tr>\n      <th>0</th>\n      <td>2038323227</td>\n      <td>16649</td>\n      <td>1322630246</td>\n      <td>2018-04-03 22:39:12</td>\n      <td>44843</td>\n    </tr>\n    <tr>\n      <th>1</th>\n      <td>2043591207</td>\n      <td>16649</td>\n      <td>1325892110</td>\n      <td>2018-04-04 19:45:39</td>\n      <td>116083</td>\n    </tr>\n    <tr>\n      <th>2</th>\n      <td>2026999821</td>\n      <td>16649</td>\n      <td>1315616600</td>\n      <td>2018-04-02 08:56:25</td>\n      <td>116083</td>\n    </tr>\n    <tr>\n      <th>3</th>\n      <td>2038059953</td>\n      <td>30374</td>\n      <td>1322459808</td>\n      <td>2018-04-03 21:38:44</td>\n      <td>116085</td>\n    </tr>\n    <tr>\n      <th>4</th>\n      <td>2030418799</td>\n      <td>16649</td>\n      <td>1317685222</td>\n      <td>2018-04-02 17:02:44</td>\n      <td>116083</td>\n    </tr>\n  </tbody>\n</table>\n</div>"
     },
     "execution_count": 359,
     "metadata": {},
     "output_type": "execute_result"
    }
   ],
   "source": [
    "querry_session=\"\"\"select * from sessions\"\"\"\n",
    "sessions=pd.read_sql(querry_session,con)\n",
    "sessions.head(5)"
   ],
   "metadata": {
    "collapsed": false,
    "pycharm": {
     "name": "#%%\n"
    }
   }
  },
  {
   "cell_type": "code",
   "execution_count": 360,
   "outputs": [
    {
     "name": "stdout",
     "output_type": "stream",
     "text": [
      "24 1177\n"
     ]
    }
   ],
   "source": [
    "print(len(communications['visitor_id']),\n",
    "      len(sessions['visitor_id']))"
   ],
   "metadata": {
    "collapsed": false,
    "pycharm": {
     "name": "#%%\n"
    }
   }
  },
  {
   "cell_type": "code",
   "execution_count": 361,
   "outputs": [
    {
     "name": "stdout",
     "output_type": "stream",
     "text": [
      "Wall time: 0 ns\n"
     ]
    }
   ],
   "source": [
    "%time\n",
    "session_date_time_list=[]\n",
    "row_n_list=[]\n",
    "for i in range(len(communications['visitor_id'])):\n",
    "    try:\n",
    "        session_date_time_list.append(sessions[sessions['visitor_id']==communications['visitor_id'][i]]['date_time'][sessions['date_time']<=\n",
    "        communications['date_time'][communications['visitor_id']==communications['visitor_id'][i]].iloc[0]].sort_values(ascending=False).iloc[1])\n",
    "        row_n_list.append(len(sessions[sessions['visitor_id']==communications['visitor_id'][i]]['date_time'][sessions['date_time']<=\n",
    "        communications['date_time'][communications['visitor_id']==communications['visitor_id'][i]].iloc[0]].sort_values(ascending=False).iloc[1:]))\n",
    "    except IndexError:\n",
    "        session_date_time_list.append(np.NaN)\n",
    "        row_n_list.append(0)"
   ],
   "metadata": {
    "collapsed": false,
    "pycharm": {
     "name": "#%%\n"
    }
   }
  },
  {
   "cell_type": "code",
   "execution_count": 362,
   "outputs": [
    {
     "data": {
      "text/plain": "[nan,\n Timestamp('2018-04-07 12:23:22'),\n nan,\n nan,\n nan,\n nan,\n nan,\n nan,\n nan,\n nan,\n nan,\n nan,\n nan,\n Timestamp('2018-04-03 12:54:24'),\n nan,\n nan,\n nan,\n nan,\n nan,\n nan,\n nan,\n nan,\n nan,\n nan]"
     },
     "execution_count": 362,
     "metadata": {},
     "output_type": "execute_result"
    }
   ],
   "source": [
    "session_date_time_list"
   ],
   "metadata": {
    "collapsed": false,
    "pycharm": {
     "name": "#%%\n"
    }
   }
  },
  {
   "cell_type": "code",
   "execution_count": 363,
   "outputs": [
    {
     "data": {
      "text/plain": "Timestamp('2018-04-03 12:54:24')"
     },
     "execution_count": 363,
     "metadata": {},
     "output_type": "execute_result"
    }
   ],
   "source": [
    "session_date_time_list[13]"
   ],
   "metadata": {
    "collapsed": false,
    "pycharm": {
     "name": "#%%\n"
    }
   }
  },
  {
   "cell_type": "code",
   "execution_count": 332,
   "outputs": [
    {
     "data": {
      "text/plain": "1"
     },
     "execution_count": 332,
     "metadata": {},
     "output_type": "execute_result"
    }
   ],
   "source": [
    "row_n_list[13]"
   ],
   "metadata": {
    "collapsed": false,
    "pycharm": {
     "name": "#%%\n"
    }
   }
  },
  {
   "cell_type": "code",
   "execution_count": 333,
   "outputs": [
    {
     "data": {
      "text/plain": "1320493028"
     },
     "execution_count": 333,
     "metadata": {},
     "output_type": "execute_result"
    }
   ],
   "source": [
    "communications['visitor_id'][13]"
   ],
   "metadata": {
    "collapsed": false,
    "pycharm": {
     "name": "#%%\n"
    }
   }
  },
  {
   "cell_type": "code",
   "execution_count": 364,
   "outputs": [
    {
     "data": {
      "text/plain": "   communication_id  site_idx  visitor_idx          date_timex  \\\n0         460453730     16649    615231236 2018-04-05 17:35:16   \n1           2092162     16649    658040990 2018-04-07 16:48:44   \n2           2061609     16649    848021975 2018-04-02 09:20:20   \n3         458670105     30374   1225592954 2018-04-02 18:38:03   \n4           2092238     16649   1235856228 2018-04-07 17:09:21   \n\n   visitor_session_id  site_idy  visitor_idy date_timey  campaign_id  \n0                 NaN       NaN          NaN        NaT          NaN  \n1                 NaN       NaN          NaN        NaT          NaN  \n2                 NaN       NaN          NaN        NaT          NaN  \n3                 NaN       NaN          NaN        NaT          NaN  \n4                 NaN       NaN          NaN        NaT          NaN  ",
      "text/html": "<div>\n<style scoped>\n    .dataframe tbody tr th:only-of-type {\n        vertical-align: middle;\n    }\n\n    .dataframe tbody tr th {\n        vertical-align: top;\n    }\n\n    .dataframe thead th {\n        text-align: right;\n    }\n</style>\n<table border=\"1\" class=\"dataframe\">\n  <thead>\n    <tr style=\"text-align: right;\">\n      <th></th>\n      <th>communication_id</th>\n      <th>site_idx</th>\n      <th>visitor_idx</th>\n      <th>date_timex</th>\n      <th>visitor_session_id</th>\n      <th>site_idy</th>\n      <th>visitor_idy</th>\n      <th>date_timey</th>\n      <th>campaign_id</th>\n    </tr>\n  </thead>\n  <tbody>\n    <tr>\n      <th>0</th>\n      <td>460453730</td>\n      <td>16649</td>\n      <td>615231236</td>\n      <td>2018-04-05 17:35:16</td>\n      <td>NaN</td>\n      <td>NaN</td>\n      <td>NaN</td>\n      <td>NaT</td>\n      <td>NaN</td>\n    </tr>\n    <tr>\n      <th>1</th>\n      <td>2092162</td>\n      <td>16649</td>\n      <td>658040990</td>\n      <td>2018-04-07 16:48:44</td>\n      <td>NaN</td>\n      <td>NaN</td>\n      <td>NaN</td>\n      <td>NaT</td>\n      <td>NaN</td>\n    </tr>\n    <tr>\n      <th>2</th>\n      <td>2061609</td>\n      <td>16649</td>\n      <td>848021975</td>\n      <td>2018-04-02 09:20:20</td>\n      <td>NaN</td>\n      <td>NaN</td>\n      <td>NaN</td>\n      <td>NaT</td>\n      <td>NaN</td>\n    </tr>\n    <tr>\n      <th>3</th>\n      <td>458670105</td>\n      <td>30374</td>\n      <td>1225592954</td>\n      <td>2018-04-02 18:38:03</td>\n      <td>NaN</td>\n      <td>NaN</td>\n      <td>NaN</td>\n      <td>NaT</td>\n      <td>NaN</td>\n    </tr>\n    <tr>\n      <th>4</th>\n      <td>2092238</td>\n      <td>16649</td>\n      <td>1235856228</td>\n      <td>2018-04-07 17:09:21</td>\n      <td>NaN</td>\n      <td>NaN</td>\n      <td>NaN</td>\n      <td>NaT</td>\n      <td>NaN</td>\n    </tr>\n  </tbody>\n</table>\n</div>"
     },
     "execution_count": 364,
     "metadata": {},
     "output_type": "execute_result"
    }
   ],
   "source": [
    "joined=communications.join(sessions,how='left',lsuffix='x', rsuffix='y',on='visitor_id')\n",
    "joined.head(5)"
   ],
   "metadata": {
    "collapsed": false,
    "pycharm": {
     "name": "#%%\n"
    }
   }
  },
  {
   "cell_type": "code",
   "execution_count": 365,
   "outputs": [
    {
     "data": {
      "text/plain": "0     0\n1     7\n2     0\n3     0\n4     0\n5     0\n6     0\n7     0\n8     0\n9     0\n10    0\n11    0\n12    0\n13    1\n14    0\n15    0\n16    0\n17    0\n18    0\n19    0\n20    0\n21    0\n22    0\n23    0\nName: row_n, dtype: int64"
     },
     "execution_count": 365,
     "metadata": {},
     "output_type": "execute_result"
    }
   ],
   "source": [
    "joined['row_n']=row_n_list\n",
    "joined['row_n']"
   ],
   "metadata": {
    "collapsed": false,
    "pycharm": {
     "name": "#%%\n"
    }
   }
  },
  {
   "cell_type": "code",
   "execution_count": 367,
   "outputs": [
    {
     "data": {
      "text/plain": "0     0\n1     7\n2     0\n3     0\n4     0\n5     0\n6     0\n7     0\n8     0\n9     0\n10    0\n11    0\n12    0\n13    1\n14    0\n15    0\n16    0\n17    0\n18    0\n19    0\n20    0\n21    0\n22    0\n23    0\nName: row_n, dtype: int64"
     },
     "execution_count": 367,
     "metadata": {},
     "output_type": "execute_result"
    }
   ],
   "source": [
    "joined['row_n']"
   ],
   "metadata": {
    "collapsed": false,
    "pycharm": {
     "name": "#%%\n"
    }
   }
  },
  {
   "cell_type": "code",
   "execution_count": 366,
   "outputs": [
    {
     "data": {
      "text/plain": "0                    NaT\n1    2018-04-07 12:23:22\n2                    NaT\n3                    NaT\n4                    NaT\n5                    NaT\n6                    NaT\n7                    NaT\n8                    NaT\n9                    NaT\n10                   NaT\n11                   NaT\n12                   NaT\n13   2018-04-03 12:54:24\n14                   NaT\n15                   NaT\n16                   NaT\n17                   NaT\n18                   NaT\n19                   NaT\n20                   NaT\n21                   NaT\n22                   NaT\n23                   NaT\nName: sessions_date_time, dtype: datetime64[ns]"
     },
     "execution_count": 366,
     "metadata": {},
     "output_type": "execute_result"
    }
   ],
   "source": [
    "joined['sessions_date_time']=session_date_time_list\n",
    "joined['sessions_date_time']"
   ],
   "metadata": {
    "collapsed": false,
    "pycharm": {
     "name": "#%%\n"
    }
   }
  },
  {
   "cell_type": "code",
   "execution_count": 369,
   "outputs": [],
   "source": [
    "# joined.to_sql('JOINED',con=con,index=False)"
   ],
   "metadata": {
    "collapsed": false,
    "pycharm": {
     "name": "#%%\n"
    }
   }
  },
  {
   "cell_type": "code",
   "execution_count": 370,
   "outputs": [
    {
     "data": {
      "text/plain": "   communication_id  site_idx  visitor_idx          date_timex  \\\n0         460453730     16649    615231236 2018-04-05 17:35:16   \n1           2092162     16649    658040990 2018-04-07 16:48:44   \n2           2061609     16649    848021975 2018-04-02 09:20:20   \n3         458670105     30374   1225592954 2018-04-02 18:38:03   \n4           2092238     16649   1235856228 2018-04-07 17:09:21   \n\n   visitor_session_id  site_idy  visitor_idy date_timey  campaign_id  row_n  \\\n0                 NaN       NaN          NaN        NaT          NaN      0   \n1                 NaN       NaN          NaN        NaT          NaN      7   \n2                 NaN       NaN          NaN        NaT          NaN      0   \n3                 NaN       NaN          NaN        NaT          NaN      0   \n4                 NaN       NaN          NaN        NaT          NaN      0   \n\n   sessions_date_time  \n0                 NaT  \n1 2018-04-07 12:23:22  \n2                 NaT  \n3                 NaT  \n4                 NaT  ",
      "text/html": "<div>\n<style scoped>\n    .dataframe tbody tr th:only-of-type {\n        vertical-align: middle;\n    }\n\n    .dataframe tbody tr th {\n        vertical-align: top;\n    }\n\n    .dataframe thead th {\n        text-align: right;\n    }\n</style>\n<table border=\"1\" class=\"dataframe\">\n  <thead>\n    <tr style=\"text-align: right;\">\n      <th></th>\n      <th>communication_id</th>\n      <th>site_idx</th>\n      <th>visitor_idx</th>\n      <th>date_timex</th>\n      <th>visitor_session_id</th>\n      <th>site_idy</th>\n      <th>visitor_idy</th>\n      <th>date_timey</th>\n      <th>campaign_id</th>\n      <th>row_n</th>\n      <th>sessions_date_time</th>\n    </tr>\n  </thead>\n  <tbody>\n    <tr>\n      <th>0</th>\n      <td>460453730</td>\n      <td>16649</td>\n      <td>615231236</td>\n      <td>2018-04-05 17:35:16</td>\n      <td>NaN</td>\n      <td>NaN</td>\n      <td>NaN</td>\n      <td>NaT</td>\n      <td>NaN</td>\n      <td>0</td>\n      <td>NaT</td>\n    </tr>\n    <tr>\n      <th>1</th>\n      <td>2092162</td>\n      <td>16649</td>\n      <td>658040990</td>\n      <td>2018-04-07 16:48:44</td>\n      <td>NaN</td>\n      <td>NaN</td>\n      <td>NaN</td>\n      <td>NaT</td>\n      <td>NaN</td>\n      <td>7</td>\n      <td>2018-04-07 12:23:22</td>\n    </tr>\n    <tr>\n      <th>2</th>\n      <td>2061609</td>\n      <td>16649</td>\n      <td>848021975</td>\n      <td>2018-04-02 09:20:20</td>\n      <td>NaN</td>\n      <td>NaN</td>\n      <td>NaN</td>\n      <td>NaT</td>\n      <td>NaN</td>\n      <td>0</td>\n      <td>NaT</td>\n    </tr>\n    <tr>\n      <th>3</th>\n      <td>458670105</td>\n      <td>30374</td>\n      <td>1225592954</td>\n      <td>2018-04-02 18:38:03</td>\n      <td>NaN</td>\n      <td>NaN</td>\n      <td>NaN</td>\n      <td>NaT</td>\n      <td>NaN</td>\n      <td>0</td>\n      <td>NaT</td>\n    </tr>\n    <tr>\n      <th>4</th>\n      <td>2092238</td>\n      <td>16649</td>\n      <td>1235856228</td>\n      <td>2018-04-07 17:09:21</td>\n      <td>NaN</td>\n      <td>NaN</td>\n      <td>NaN</td>\n      <td>NaT</td>\n      <td>NaN</td>\n      <td>0</td>\n      <td>NaT</td>\n    </tr>\n  </tbody>\n</table>\n</div>"
     },
     "execution_count": 370,
     "metadata": {},
     "output_type": "execute_result"
    }
   ],
   "source": [
    "joined.head(5)\n"
   ],
   "metadata": {
    "collapsed": false,
    "pycharm": {
     "name": "#%%\n"
    }
   }
  },
  {
   "cell_type": "code",
   "execution_count": 372,
   "outputs": [
    {
     "data": {
      "text/plain": "    communication_id  site_id  visitor_id           date_time  \\\n0          460453730    16649   615231236 2018-04-05 17:35:16   \n1            2092162    16649   658040990 2018-04-07 16:48:44   \n2            2061609    16649   848021975 2018-04-02 09:20:20   \n3          458670105    30374  1225592954 2018-04-02 18:38:03   \n4            2092238    16649  1235856228 2018-04-07 17:09:21   \n5            2092428    16649  1279156408 2018-04-07 18:21:16   \n6          457537963    16649  1310647296 2018-04-01 10:00:28   \n7          456995966    16649  1310647296 2018-04-01 10:16:50   \n8            2056235    16649  1311935382 2018-04-01 00:21:49   \n9            2056231    16649  1311935382 2018-04-01 00:21:07   \n10         457913565    30374  1315411842 2018-04-02 07:26:06   \n11           2067161    16649  1318710746 2018-04-02 22:09:49   \n12           2067481    30374  1318950710 2018-04-02 23:56:24   \n13         460185262    16649  1320493028 2018-04-05 13:52:17   \n14         459023002    16649  1323298170 2018-04-04 09:05:05   \n15         459665697    16649  1323298170 2018-04-04 09:21:47   \n16           2079051    16649  1325560636 2018-04-04 18:11:59   \n17         459728334    16649  1325805888 2018-04-04 19:20:22   \n18           2083191    30374  1328012720 2018-04-05 12:52:27   \n19           2083197    30374  1328012720 2018-04-05 12:53:23   \n20           2084037    30374  1328492094 2018-04-05 14:52:35   \n21         461261187    30374  1329775718 2018-04-05 22:40:24   \n22           2086624    16649  1329874720 2018-04-05 22:05:46   \n23         461436460    16649  1330499539 2018-04-06 11:01:51   \n\n    sessions_date_time  visitor_session_id  row_n  \n0                  NaT          2048740059      0  \n1  2018-04-07 12:23:22          2054754818      7  \n2                  NaT          2027105873      0  \n3                  NaT          2030992565      0  \n4                  NaT          2054740380      0  \n5                  NaT          2054991378      0  \n6                  NaT          2022247367      0  \n7                  NaT          2022247367      0  \n8                  NaT          2021383539      0  \n9                  NaT          2021383539      0  \n10                 NaT          2026650737      0  \n11                 NaT          2032035085      0  \n12                 NaT          2032400857      0  \n13 2018-04-05 13:50:12          2034909501      1  \n14                 NaT          2039340703      0  \n15                 NaT          2039340703      0  \n16                 NaT          2043066145      0  \n17                 NaT          2043455825      0  \n18                 NaT          2046981695      0  \n19                 NaT          2046981695      0  \n20                 NaT          2047764707      0  \n21                 NaT          2049815771      0  \n22                 NaT          2049969305      0  \n23                 NaT          2050995156      0  ",
      "text/html": "<div>\n<style scoped>\n    .dataframe tbody tr th:only-of-type {\n        vertical-align: middle;\n    }\n\n    .dataframe tbody tr th {\n        vertical-align: top;\n    }\n\n    .dataframe thead th {\n        text-align: right;\n    }\n</style>\n<table border=\"1\" class=\"dataframe\">\n  <thead>\n    <tr style=\"text-align: right;\">\n      <th></th>\n      <th>communication_id</th>\n      <th>site_id</th>\n      <th>visitor_id</th>\n      <th>date_time</th>\n      <th>sessions_date_time</th>\n      <th>visitor_session_id</th>\n      <th>row_n</th>\n    </tr>\n  </thead>\n  <tbody>\n    <tr>\n      <th>0</th>\n      <td>460453730</td>\n      <td>16649</td>\n      <td>615231236</td>\n      <td>2018-04-05 17:35:16</td>\n      <td>NaT</td>\n      <td>2048740059</td>\n      <td>0</td>\n    </tr>\n    <tr>\n      <th>1</th>\n      <td>2092162</td>\n      <td>16649</td>\n      <td>658040990</td>\n      <td>2018-04-07 16:48:44</td>\n      <td>2018-04-07 12:23:22</td>\n      <td>2054754818</td>\n      <td>7</td>\n    </tr>\n    <tr>\n      <th>2</th>\n      <td>2061609</td>\n      <td>16649</td>\n      <td>848021975</td>\n      <td>2018-04-02 09:20:20</td>\n      <td>NaT</td>\n      <td>2027105873</td>\n      <td>0</td>\n    </tr>\n    <tr>\n      <th>3</th>\n      <td>458670105</td>\n      <td>30374</td>\n      <td>1225592954</td>\n      <td>2018-04-02 18:38:03</td>\n      <td>NaT</td>\n      <td>2030992565</td>\n      <td>0</td>\n    </tr>\n    <tr>\n      <th>4</th>\n      <td>2092238</td>\n      <td>16649</td>\n      <td>1235856228</td>\n      <td>2018-04-07 17:09:21</td>\n      <td>NaT</td>\n      <td>2054740380</td>\n      <td>0</td>\n    </tr>\n    <tr>\n      <th>5</th>\n      <td>2092428</td>\n      <td>16649</td>\n      <td>1279156408</td>\n      <td>2018-04-07 18:21:16</td>\n      <td>NaT</td>\n      <td>2054991378</td>\n      <td>0</td>\n    </tr>\n    <tr>\n      <th>6</th>\n      <td>457537963</td>\n      <td>16649</td>\n      <td>1310647296</td>\n      <td>2018-04-01 10:00:28</td>\n      <td>NaT</td>\n      <td>2022247367</td>\n      <td>0</td>\n    </tr>\n    <tr>\n      <th>7</th>\n      <td>456995966</td>\n      <td>16649</td>\n      <td>1310647296</td>\n      <td>2018-04-01 10:16:50</td>\n      <td>NaT</td>\n      <td>2022247367</td>\n      <td>0</td>\n    </tr>\n    <tr>\n      <th>8</th>\n      <td>2056235</td>\n      <td>16649</td>\n      <td>1311935382</td>\n      <td>2018-04-01 00:21:49</td>\n      <td>NaT</td>\n      <td>2021383539</td>\n      <td>0</td>\n    </tr>\n    <tr>\n      <th>9</th>\n      <td>2056231</td>\n      <td>16649</td>\n      <td>1311935382</td>\n      <td>2018-04-01 00:21:07</td>\n      <td>NaT</td>\n      <td>2021383539</td>\n      <td>0</td>\n    </tr>\n    <tr>\n      <th>10</th>\n      <td>457913565</td>\n      <td>30374</td>\n      <td>1315411842</td>\n      <td>2018-04-02 07:26:06</td>\n      <td>NaT</td>\n      <td>2026650737</td>\n      <td>0</td>\n    </tr>\n    <tr>\n      <th>11</th>\n      <td>2067161</td>\n      <td>16649</td>\n      <td>1318710746</td>\n      <td>2018-04-02 22:09:49</td>\n      <td>NaT</td>\n      <td>2032035085</td>\n      <td>0</td>\n    </tr>\n    <tr>\n      <th>12</th>\n      <td>2067481</td>\n      <td>30374</td>\n      <td>1318950710</td>\n      <td>2018-04-02 23:56:24</td>\n      <td>NaT</td>\n      <td>2032400857</td>\n      <td>0</td>\n    </tr>\n    <tr>\n      <th>13</th>\n      <td>460185262</td>\n      <td>16649</td>\n      <td>1320493028</td>\n      <td>2018-04-05 13:52:17</td>\n      <td>2018-04-05 13:50:12</td>\n      <td>2034909501</td>\n      <td>1</td>\n    </tr>\n    <tr>\n      <th>14</th>\n      <td>459023002</td>\n      <td>16649</td>\n      <td>1323298170</td>\n      <td>2018-04-04 09:05:05</td>\n      <td>NaT</td>\n      <td>2039340703</td>\n      <td>0</td>\n    </tr>\n    <tr>\n      <th>15</th>\n      <td>459665697</td>\n      <td>16649</td>\n      <td>1323298170</td>\n      <td>2018-04-04 09:21:47</td>\n      <td>NaT</td>\n      <td>2039340703</td>\n      <td>0</td>\n    </tr>\n    <tr>\n      <th>16</th>\n      <td>2079051</td>\n      <td>16649</td>\n      <td>1325560636</td>\n      <td>2018-04-04 18:11:59</td>\n      <td>NaT</td>\n      <td>2043066145</td>\n      <td>0</td>\n    </tr>\n    <tr>\n      <th>17</th>\n      <td>459728334</td>\n      <td>16649</td>\n      <td>1325805888</td>\n      <td>2018-04-04 19:20:22</td>\n      <td>NaT</td>\n      <td>2043455825</td>\n      <td>0</td>\n    </tr>\n    <tr>\n      <th>18</th>\n      <td>2083191</td>\n      <td>30374</td>\n      <td>1328012720</td>\n      <td>2018-04-05 12:52:27</td>\n      <td>NaT</td>\n      <td>2046981695</td>\n      <td>0</td>\n    </tr>\n    <tr>\n      <th>19</th>\n      <td>2083197</td>\n      <td>30374</td>\n      <td>1328012720</td>\n      <td>2018-04-05 12:53:23</td>\n      <td>NaT</td>\n      <td>2046981695</td>\n      <td>0</td>\n    </tr>\n    <tr>\n      <th>20</th>\n      <td>2084037</td>\n      <td>30374</td>\n      <td>1328492094</td>\n      <td>2018-04-05 14:52:35</td>\n      <td>NaT</td>\n      <td>2047764707</td>\n      <td>0</td>\n    </tr>\n    <tr>\n      <th>21</th>\n      <td>461261187</td>\n      <td>30374</td>\n      <td>1329775718</td>\n      <td>2018-04-05 22:40:24</td>\n      <td>NaT</td>\n      <td>2049815771</td>\n      <td>0</td>\n    </tr>\n    <tr>\n      <th>22</th>\n      <td>2086624</td>\n      <td>16649</td>\n      <td>1329874720</td>\n      <td>2018-04-05 22:05:46</td>\n      <td>NaT</td>\n      <td>2049969305</td>\n      <td>0</td>\n    </tr>\n    <tr>\n      <th>23</th>\n      <td>461436460</td>\n      <td>16649</td>\n      <td>1330499539</td>\n      <td>2018-04-06 11:01:51</td>\n      <td>NaT</td>\n      <td>2050995156</td>\n      <td>0</td>\n    </tr>\n  </tbody>\n</table>\n</div>"
     },
     "execution_count": 372,
     "metadata": {},
     "output_type": "execute_result"
    }
   ],
   "source": [
    "pd.read_sql(\"\"\"select * from joined_sql\"\"\",con=con)\n"
   ],
   "metadata": {
    "collapsed": false,
    "pycharm": {
     "name": "#%%\n"
    }
   }
  },
  {
   "cell_type": "code",
   "execution_count": 374,
   "outputs": [],
   "source": [
    "sql_script=\"\"\"\n",
    "\n",
    "create table from_py_sql as\n",
    "(\n",
    "    SELECT FRT.visitor_id,communication_id,site_id,row_n,campaign_id,FRT.sessions_date_time,date_time as communication_date_time from (\n",
    "                    SELECT * from communications com\n",
    "                    left join LATERAL\n",
    "                    (\n",
    "                        select LEAD(date_time) over () as sessions_date_time, visitor_session_id,campaign_id\n",
    "                        from sessions\n",
    "                        where (visitor_id = com.visitor_id)\n",
    "                        and (site_id = com.site_id)\n",
    "                        and (date_time<=com.date_time)\n",
    "                        limit 1\n",
    "                    ) re on com.visitor_id = visitor_id\n",
    "                  ) FRT\n",
    "    left join LATERAL (\n",
    "                        select Count(date_time)-1 as row_n, visitor_id\n",
    "                        from LATERAL (\n",
    "                                        select date_time\n",
    "                                        from sessions\n",
    "                                        where (visitor_id = FRT.visitor_id)\n",
    "                                        and (date_time <=frt.date_time)\n",
    "                                     ) a where visitor_id = FRT.visitor_id and site_id = frt.site_id\n",
    "                      ) sss\n",
    "    on FRT.visitor_id = sss.visitor_id\n",
    "\n",
    ")\n",
    "\"\"\"\n"
   ],
   "metadata": {
    "collapsed": false,
    "pycharm": {
     "name": "#%%\n"
    }
   }
  },
  {
   "cell_type": "code",
   "execution_count": 381,
   "outputs": [],
   "source": [
    "curs=con.cursor()\n"
   ],
   "metadata": {
    "collapsed": false,
    "pycharm": {
     "name": "#%%\n"
    }
   }
  },
  {
   "cell_type": "code",
   "execution_count": 383,
   "outputs": [
    {
     "ename": "InFailedSqlTransaction",
     "evalue": "current transaction is aborted, commands ignored until end of transaction block\n",
     "output_type": "error",
     "traceback": [
      "\u001B[1;31m---------------------------------------------------------------------------\u001B[0m",
      "\u001B[1;31mInFailedSqlTransaction\u001B[0m                    Traceback (most recent call last)",
      "\u001B[1;32m~\\AppData\\Local\\Temp/ipykernel_12612/3448050961.py\u001B[0m in \u001B[0;36m<module>\u001B[1;34m\u001B[0m\n\u001B[1;32m----> 1\u001B[1;33m \u001B[0mcurs\u001B[0m\u001B[1;33m.\u001B[0m\u001B[0mexecute\u001B[0m\u001B[1;33m(\u001B[0m\u001B[0msql_script\u001B[0m\u001B[1;33m)\u001B[0m\u001B[1;33m\u001B[0m\u001B[1;33m\u001B[0m\u001B[0m\n\u001B[0m\u001B[0;32m      2\u001B[0m \u001B[0mcon\u001B[0m\u001B[1;33m.\u001B[0m\u001B[0mcommit\u001B[0m\u001B[1;33m(\u001B[0m\u001B[1;33m)\u001B[0m \u001B[1;31m# <--- makes sure the change is shown in the database\u001B[0m\u001B[1;33m\u001B[0m\u001B[1;33m\u001B[0m\u001B[0m\n\u001B[0;32m      3\u001B[0m \u001B[0mcon\u001B[0m\u001B[1;33m.\u001B[0m\u001B[0mclose\u001B[0m\u001B[1;33m(\u001B[0m\u001B[1;33m)\u001B[0m\u001B[1;33m\u001B[0m\u001B[1;33m\u001B[0m\u001B[0m\n\u001B[0;32m      4\u001B[0m \u001B[0mcurs\u001B[0m\u001B[1;33m.\u001B[0m\u001B[0mclose\u001B[0m\u001B[1;33m(\u001B[0m\u001B[1;33m)\u001B[0m\u001B[1;33m\u001B[0m\u001B[1;33m\u001B[0m\u001B[0m\n",
      "\u001B[1;31mInFailedSqlTransaction\u001B[0m: current transaction is aborted, commands ignored until end of transaction block\n"
     ]
    }
   ],
   "source": [
    "curs.execute(sql_script)\n",
    "con.commit() # <--- makes sure the change is shown in the database\n",
    "con.close()\n",
    "curs.close()"
   ],
   "metadata": {
    "collapsed": false,
    "pycharm": {
     "name": "#%%\n"
    }
   }
  }
 ],
 "metadata": {
  "kernelspec": {
   "display_name": "Python 3",
   "language": "python",
   "name": "python3"
  },
  "language_info": {
   "codemirror_mode": {
    "name": "ipython",
    "version": 2
   },
   "file_extension": ".py",
   "mimetype": "text/x-python",
   "name": "python",
   "nbconvert_exporter": "python",
   "pygments_lexer": "ipython2",
   "version": "2.7.6"
  }
 },
 "nbformat": 4,
 "nbformat_minor": 0
}