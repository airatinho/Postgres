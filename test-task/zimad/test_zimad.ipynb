{
 "cells": [
  {
   "cell_type": "code",
   "execution_count": 1,
   "metadata": {
    "collapsed": true
   },
   "outputs": [],
   "source": [
    "from bs4 import BeautifulSoup\n",
    "import urllib.request\n",
    "import pandas as pd\n",
    "\n",
    "url='https://testiws.ximad.com/export/events.csv.gz'\n",
    "\n",
    "import requests"
   ]
  },
  {
   "cell_type": "code",
   "execution_count": 2,
   "outputs": [
    {
     "data": {
      "text/plain": "('event.csv.gz', <http.client.HTTPMessage at 0x1db1a7d1970>)"
     },
     "execution_count": 2,
     "metadata": {},
     "output_type": "execute_result"
    }
   ],
   "source": [
    "urllib.request.urlretrieve(url, \"event.csv.gz\")"
   ],
   "metadata": {
    "collapsed": false,
    "pycharm": {
     "name": "#%%\n"
    }
   }
  },
  {
   "cell_type": "code",
   "execution_count": 3,
   "outputs": [
    {
     "data": {
      "text/plain": "            event_time   event_name           user_id  event_value\n0  2021-09-29 17:58:14   game_start  9586e17375389649          NaN\n1  2021-09-23 16:02:12  game_finish  201bf35f4bb535fd          NaN\n2  2021-09-25 09:58:37  game_finish  700eeb451fbf5197          NaN\n3  2021-09-15 20:46:00   game_start  df651b8bdd042fd6          NaN\n4  2021-09-09 22:22:06  game_finish  e84c3f343a5a66df          NaN\n5  2021-09-08 15:04:49   game_start  059719ab42b98ee8          NaN\n6  2021-09-22 21:10:35  game_finish  d768e0fb37415e08          NaN\n7  2021-09-20 23:30:23   game_start  c0c9abcdc67fea24          NaN\n8  2021-09-22 13:46:08       launch  2ab5fe2d460ee3ba          NaN\n9  2021-09-19 15:33:55   game_start  3b75ce12ff0ff6ac          NaN",
      "text/html": "<div>\n<style scoped>\n    .dataframe tbody tr th:only-of-type {\n        vertical-align: middle;\n    }\n\n    .dataframe tbody tr th {\n        vertical-align: top;\n    }\n\n    .dataframe thead th {\n        text-align: right;\n    }\n</style>\n<table border=\"1\" class=\"dataframe\">\n  <thead>\n    <tr style=\"text-align: right;\">\n      <th></th>\n      <th>event_time</th>\n      <th>event_name</th>\n      <th>user_id</th>\n      <th>event_value</th>\n    </tr>\n  </thead>\n  <tbody>\n    <tr>\n      <th>0</th>\n      <td>2021-09-29 17:58:14</td>\n      <td>game_start</td>\n      <td>9586e17375389649</td>\n      <td>NaN</td>\n    </tr>\n    <tr>\n      <th>1</th>\n      <td>2021-09-23 16:02:12</td>\n      <td>game_finish</td>\n      <td>201bf35f4bb535fd</td>\n      <td>NaN</td>\n    </tr>\n    <tr>\n      <th>2</th>\n      <td>2021-09-25 09:58:37</td>\n      <td>game_finish</td>\n      <td>700eeb451fbf5197</td>\n      <td>NaN</td>\n    </tr>\n    <tr>\n      <th>3</th>\n      <td>2021-09-15 20:46:00</td>\n      <td>game_start</td>\n      <td>df651b8bdd042fd6</td>\n      <td>NaN</td>\n    </tr>\n    <tr>\n      <th>4</th>\n      <td>2021-09-09 22:22:06</td>\n      <td>game_finish</td>\n      <td>e84c3f343a5a66df</td>\n      <td>NaN</td>\n    </tr>\n    <tr>\n      <th>5</th>\n      <td>2021-09-08 15:04:49</td>\n      <td>game_start</td>\n      <td>059719ab42b98ee8</td>\n      <td>NaN</td>\n    </tr>\n    <tr>\n      <th>6</th>\n      <td>2021-09-22 21:10:35</td>\n      <td>game_finish</td>\n      <td>d768e0fb37415e08</td>\n      <td>NaN</td>\n    </tr>\n    <tr>\n      <th>7</th>\n      <td>2021-09-20 23:30:23</td>\n      <td>game_start</td>\n      <td>c0c9abcdc67fea24</td>\n      <td>NaN</td>\n    </tr>\n    <tr>\n      <th>8</th>\n      <td>2021-09-22 13:46:08</td>\n      <td>launch</td>\n      <td>2ab5fe2d460ee3ba</td>\n      <td>NaN</td>\n    </tr>\n    <tr>\n      <th>9</th>\n      <td>2021-09-19 15:33:55</td>\n      <td>game_start</td>\n      <td>3b75ce12ff0ff6ac</td>\n      <td>NaN</td>\n    </tr>\n  </tbody>\n</table>\n</div>"
     },
     "execution_count": 3,
     "metadata": {},
     "output_type": "execute_result"
    }
   ],
   "source": [
    "df=pd.read_csv('event.csv.gz')\n",
    "df.head(10)"
   ],
   "metadata": {
    "collapsed": false,
    "pycharm": {
     "name": "#%%\n"
    }
   }
  },
  {
   "cell_type": "code",
   "execution_count": 4,
   "outputs": [
    {
     "data": {
      "text/plain": "             event_time event_name           user_id  event_value\n8   2021-09-22 13:46:08     launch  2ab5fe2d460ee3ba          NaN\n11  2021-09-16 11:27:09     launch  735bef201e386609          NaN\n24  2021-09-15 10:20:47     launch  25099db89c6bb14c          NaN\n28  2021-09-10 17:57:14     launch  2ac793ccd5361113          NaN\n32  2021-09-12 17:39:48     launch  9ee48cdf83a4c0eb          NaN\n33  2021-09-18 23:02:15     launch  02b54602890d4c19          NaN\n34  2021-09-10 15:31:50     launch  e014237e4b374361          NaN\n52  2021-09-20 14:51:40     launch  3f86a2fd93ac7f1b          NaN\n58  2021-09-10 07:07:23     launch  0bb8df7154a42c46          NaN\n64  2021-09-15 21:38:22     launch  4b1248cfd3e25f5c          NaN",
      "text/html": "<div>\n<style scoped>\n    .dataframe tbody tr th:only-of-type {\n        vertical-align: middle;\n    }\n\n    .dataframe tbody tr th {\n        vertical-align: top;\n    }\n\n    .dataframe thead th {\n        text-align: right;\n    }\n</style>\n<table border=\"1\" class=\"dataframe\">\n  <thead>\n    <tr style=\"text-align: right;\">\n      <th></th>\n      <th>event_time</th>\n      <th>event_name</th>\n      <th>user_id</th>\n      <th>event_value</th>\n    </tr>\n  </thead>\n  <tbody>\n    <tr>\n      <th>8</th>\n      <td>2021-09-22 13:46:08</td>\n      <td>launch</td>\n      <td>2ab5fe2d460ee3ba</td>\n      <td>NaN</td>\n    </tr>\n    <tr>\n      <th>11</th>\n      <td>2021-09-16 11:27:09</td>\n      <td>launch</td>\n      <td>735bef201e386609</td>\n      <td>NaN</td>\n    </tr>\n    <tr>\n      <th>24</th>\n      <td>2021-09-15 10:20:47</td>\n      <td>launch</td>\n      <td>25099db89c6bb14c</td>\n      <td>NaN</td>\n    </tr>\n    <tr>\n      <th>28</th>\n      <td>2021-09-10 17:57:14</td>\n      <td>launch</td>\n      <td>2ac793ccd5361113</td>\n      <td>NaN</td>\n    </tr>\n    <tr>\n      <th>32</th>\n      <td>2021-09-12 17:39:48</td>\n      <td>launch</td>\n      <td>9ee48cdf83a4c0eb</td>\n      <td>NaN</td>\n    </tr>\n    <tr>\n      <th>33</th>\n      <td>2021-09-18 23:02:15</td>\n      <td>launch</td>\n      <td>02b54602890d4c19</td>\n      <td>NaN</td>\n    </tr>\n    <tr>\n      <th>34</th>\n      <td>2021-09-10 15:31:50</td>\n      <td>launch</td>\n      <td>e014237e4b374361</td>\n      <td>NaN</td>\n    </tr>\n    <tr>\n      <th>52</th>\n      <td>2021-09-20 14:51:40</td>\n      <td>launch</td>\n      <td>3f86a2fd93ac7f1b</td>\n      <td>NaN</td>\n    </tr>\n    <tr>\n      <th>58</th>\n      <td>2021-09-10 07:07:23</td>\n      <td>launch</td>\n      <td>0bb8df7154a42c46</td>\n      <td>NaN</td>\n    </tr>\n    <tr>\n      <th>64</th>\n      <td>2021-09-15 21:38:22</td>\n      <td>launch</td>\n      <td>4b1248cfd3e25f5c</td>\n      <td>NaN</td>\n    </tr>\n  </tbody>\n</table>\n</div>"
     },
     "execution_count": 4,
     "metadata": {},
     "output_type": "execute_result"
    }
   ],
   "source": [
    "df[df['event_name']=='launch'].head(10)"
   ],
   "metadata": {
    "collapsed": false,
    "pycharm": {
     "name": "#%%\n"
    }
   }
  },
  {
   "cell_type": "code",
   "execution_count": 5,
   "outputs": [
    {
     "data": {
      "text/plain": "             event_time event_name           user_id  event_value\n8   2021-09-22 13:46:08     launch  2ab5fe2d460ee3ba          NaN\n11  2021-09-16 11:27:09     launch  735bef201e386609          NaN\n24  2021-09-15 10:20:47     launch  25099db89c6bb14c          NaN\n28  2021-09-10 17:57:14     launch  2ac793ccd5361113          NaN\n32  2021-09-12 17:39:48     launch  9ee48cdf83a4c0eb          NaN\n33  2021-09-18 23:02:15     launch  02b54602890d4c19          NaN\n34  2021-09-10 15:31:50     launch  e014237e4b374361          NaN\n52  2021-09-20 14:51:40     launch  3f86a2fd93ac7f1b          NaN\n58  2021-09-10 07:07:23     launch  0bb8df7154a42c46          NaN\n64  2021-09-15 21:38:22     launch  4b1248cfd3e25f5c          NaN",
      "text/html": "<div>\n<style scoped>\n    .dataframe tbody tr th:only-of-type {\n        vertical-align: middle;\n    }\n\n    .dataframe tbody tr th {\n        vertical-align: top;\n    }\n\n    .dataframe thead th {\n        text-align: right;\n    }\n</style>\n<table border=\"1\" class=\"dataframe\">\n  <thead>\n    <tr style=\"text-align: right;\">\n      <th></th>\n      <th>event_time</th>\n      <th>event_name</th>\n      <th>user_id</th>\n      <th>event_value</th>\n    </tr>\n  </thead>\n  <tbody>\n    <tr>\n      <th>8</th>\n      <td>2021-09-22 13:46:08</td>\n      <td>launch</td>\n      <td>2ab5fe2d460ee3ba</td>\n      <td>NaN</td>\n    </tr>\n    <tr>\n      <th>11</th>\n      <td>2021-09-16 11:27:09</td>\n      <td>launch</td>\n      <td>735bef201e386609</td>\n      <td>NaN</td>\n    </tr>\n    <tr>\n      <th>24</th>\n      <td>2021-09-15 10:20:47</td>\n      <td>launch</td>\n      <td>25099db89c6bb14c</td>\n      <td>NaN</td>\n    </tr>\n    <tr>\n      <th>28</th>\n      <td>2021-09-10 17:57:14</td>\n      <td>launch</td>\n      <td>2ac793ccd5361113</td>\n      <td>NaN</td>\n    </tr>\n    <tr>\n      <th>32</th>\n      <td>2021-09-12 17:39:48</td>\n      <td>launch</td>\n      <td>9ee48cdf83a4c0eb</td>\n      <td>NaN</td>\n    </tr>\n    <tr>\n      <th>33</th>\n      <td>2021-09-18 23:02:15</td>\n      <td>launch</td>\n      <td>02b54602890d4c19</td>\n      <td>NaN</td>\n    </tr>\n    <tr>\n      <th>34</th>\n      <td>2021-09-10 15:31:50</td>\n      <td>launch</td>\n      <td>e014237e4b374361</td>\n      <td>NaN</td>\n    </tr>\n    <tr>\n      <th>52</th>\n      <td>2021-09-20 14:51:40</td>\n      <td>launch</td>\n      <td>3f86a2fd93ac7f1b</td>\n      <td>NaN</td>\n    </tr>\n    <tr>\n      <th>58</th>\n      <td>2021-09-10 07:07:23</td>\n      <td>launch</td>\n      <td>0bb8df7154a42c46</td>\n      <td>NaN</td>\n    </tr>\n    <tr>\n      <th>64</th>\n      <td>2021-09-15 21:38:22</td>\n      <td>launch</td>\n      <td>4b1248cfd3e25f5c</td>\n      <td>NaN</td>\n    </tr>\n  </tbody>\n</table>\n</div>"
     },
     "execution_count": 5,
     "metadata": {},
     "output_type": "execute_result"
    }
   ],
   "source": [
    "df=df[(df['event_name']=='purchase') | (df['event_name']=='launch')]\n",
    "df.head(10)"
   ],
   "metadata": {
    "collapsed": false,
    "pycharm": {
     "name": "#%%\n"
    }
   }
  },
  {
   "cell_type": "code",
   "execution_count": 6,
   "outputs": [],
   "source": [
    "df=df.fillna(0).reset_index(drop=True)"
   ],
   "metadata": {
    "collapsed": false,
    "pycharm": {
     "name": "#%%\n"
    }
   }
  },
  {
   "cell_type": "code",
   "execution_count": 7,
   "outputs": [
    {
     "data": {
      "text/plain": "Index(['event_time', 'event_name', 'user_id', 'event_value'], dtype='object')"
     },
     "execution_count": 7,
     "metadata": {},
     "output_type": "execute_result"
    }
   ],
   "source": [
    "df.columns"
   ],
   "metadata": {
    "collapsed": false,
    "pycharm": {
     "name": "#%%\n"
    }
   }
  },
  {
   "cell_type": "code",
   "execution_count": 8,
   "outputs": [],
   "source": [
    "df['event_time']=df['event_time'].apply(lambda x: x.split(' ')[0])"
   ],
   "metadata": {
    "collapsed": false,
    "pycharm": {
     "name": "#%%\n"
    }
   }
  },
  {
   "cell_type": "code",
   "execution_count": 9,
   "outputs": [
    {
     "data": {
      "text/plain": "   event_time event_name           user_id  event_value\n0  2021-09-22     launch  2ab5fe2d460ee3ba          0.0\n1  2021-09-16     launch  735bef201e386609          0.0\n2  2021-09-15     launch  25099db89c6bb14c          0.0\n3  2021-09-10     launch  2ac793ccd5361113          0.0\n4  2021-09-12     launch  9ee48cdf83a4c0eb          0.0\n5  2021-09-18     launch  02b54602890d4c19          0.0\n6  2021-09-10     launch  e014237e4b374361          0.0\n7  2021-09-20     launch  3f86a2fd93ac7f1b          0.0\n8  2021-09-10     launch  0bb8df7154a42c46          0.0\n9  2021-09-15     launch  4b1248cfd3e25f5c          0.0",
      "text/html": "<div>\n<style scoped>\n    .dataframe tbody tr th:only-of-type {\n        vertical-align: middle;\n    }\n\n    .dataframe tbody tr th {\n        vertical-align: top;\n    }\n\n    .dataframe thead th {\n        text-align: right;\n    }\n</style>\n<table border=\"1\" class=\"dataframe\">\n  <thead>\n    <tr style=\"text-align: right;\">\n      <th></th>\n      <th>event_time</th>\n      <th>event_name</th>\n      <th>user_id</th>\n      <th>event_value</th>\n    </tr>\n  </thead>\n  <tbody>\n    <tr>\n      <th>0</th>\n      <td>2021-09-22</td>\n      <td>launch</td>\n      <td>2ab5fe2d460ee3ba</td>\n      <td>0.0</td>\n    </tr>\n    <tr>\n      <th>1</th>\n      <td>2021-09-16</td>\n      <td>launch</td>\n      <td>735bef201e386609</td>\n      <td>0.0</td>\n    </tr>\n    <tr>\n      <th>2</th>\n      <td>2021-09-15</td>\n      <td>launch</td>\n      <td>25099db89c6bb14c</td>\n      <td>0.0</td>\n    </tr>\n    <tr>\n      <th>3</th>\n      <td>2021-09-10</td>\n      <td>launch</td>\n      <td>2ac793ccd5361113</td>\n      <td>0.0</td>\n    </tr>\n    <tr>\n      <th>4</th>\n      <td>2021-09-12</td>\n      <td>launch</td>\n      <td>9ee48cdf83a4c0eb</td>\n      <td>0.0</td>\n    </tr>\n    <tr>\n      <th>5</th>\n      <td>2021-09-18</td>\n      <td>launch</td>\n      <td>02b54602890d4c19</td>\n      <td>0.0</td>\n    </tr>\n    <tr>\n      <th>6</th>\n      <td>2021-09-10</td>\n      <td>launch</td>\n      <td>e014237e4b374361</td>\n      <td>0.0</td>\n    </tr>\n    <tr>\n      <th>7</th>\n      <td>2021-09-20</td>\n      <td>launch</td>\n      <td>3f86a2fd93ac7f1b</td>\n      <td>0.0</td>\n    </tr>\n    <tr>\n      <th>8</th>\n      <td>2021-09-10</td>\n      <td>launch</td>\n      <td>0bb8df7154a42c46</td>\n      <td>0.0</td>\n    </tr>\n    <tr>\n      <th>9</th>\n      <td>2021-09-15</td>\n      <td>launch</td>\n      <td>4b1248cfd3e25f5c</td>\n      <td>0.0</td>\n    </tr>\n  </tbody>\n</table>\n</div>"
     },
     "execution_count": 9,
     "metadata": {},
     "output_type": "execute_result"
    }
   ],
   "source": [
    "df.head(10)"
   ],
   "metadata": {
    "collapsed": false,
    "pycharm": {
     "name": "#%%\n"
    }
   }
  },
  {
   "cell_type": "code",
   "execution_count": 27,
   "outputs": [],
   "source": [
    "df_res=df.groupby(['event_time','user_id']).agg({'event_value':'mean'})\n"
   ],
   "metadata": {
    "collapsed": false,
    "pycharm": {
     "name": "#%%\n"
    }
   }
  },
  {
   "cell_type": "code",
   "execution_count": 29,
   "outputs": [
    {
     "data": {
      "text/plain": "                             event_value\nevent_time user_id                      \n2021-09-07 00047db9031b7ff7          0.0\n           0005c7fa2e6baac0          0.0\n           00067e98b154b87f          0.0\n           001ca78f5321e57e          0.0\n           00225e57812af853          0.0\n...                                  ...\n2021-09-30 ffddb1e53b7b92c9          0.0\n           ffe98a15497cde46          0.0\n           ffed17e2a7324281          0.0\n           fff0062204c76650          0.0\n           fffbc23910bf8cca          0.0\n\n[336070 rows x 1 columns]",
      "text/html": "<div>\n<style scoped>\n    .dataframe tbody tr th:only-of-type {\n        vertical-align: middle;\n    }\n\n    .dataframe tbody tr th {\n        vertical-align: top;\n    }\n\n    .dataframe thead th {\n        text-align: right;\n    }\n</style>\n<table border=\"1\" class=\"dataframe\">\n  <thead>\n    <tr style=\"text-align: right;\">\n      <th></th>\n      <th></th>\n      <th>event_value</th>\n    </tr>\n    <tr>\n      <th>event_time</th>\n      <th>user_id</th>\n      <th></th>\n    </tr>\n  </thead>\n  <tbody>\n    <tr>\n      <th rowspan=\"5\" valign=\"top\">2021-09-07</th>\n      <th>00047db9031b7ff7</th>\n      <td>0.0</td>\n    </tr>\n    <tr>\n      <th>0005c7fa2e6baac0</th>\n      <td>0.0</td>\n    </tr>\n    <tr>\n      <th>00067e98b154b87f</th>\n      <td>0.0</td>\n    </tr>\n    <tr>\n      <th>001ca78f5321e57e</th>\n      <td>0.0</td>\n    </tr>\n    <tr>\n      <th>00225e57812af853</th>\n      <td>0.0</td>\n    </tr>\n    <tr>\n      <th>...</th>\n      <th>...</th>\n      <td>...</td>\n    </tr>\n    <tr>\n      <th rowspan=\"5\" valign=\"top\">2021-09-30</th>\n      <th>ffddb1e53b7b92c9</th>\n      <td>0.0</td>\n    </tr>\n    <tr>\n      <th>ffe98a15497cde46</th>\n      <td>0.0</td>\n    </tr>\n    <tr>\n      <th>ffed17e2a7324281</th>\n      <td>0.0</td>\n    </tr>\n    <tr>\n      <th>fff0062204c76650</th>\n      <td>0.0</td>\n    </tr>\n    <tr>\n      <th>fffbc23910bf8cca</th>\n      <td>0.0</td>\n    </tr>\n  </tbody>\n</table>\n<p>336070 rows × 1 columns</p>\n</div>"
     },
     "execution_count": 29,
     "metadata": {},
     "output_type": "execute_result"
    }
   ],
   "source": [
    "df_res\n"
   ],
   "metadata": {
    "collapsed": false,
    "pycharm": {
     "name": "#%%\n"
    }
   }
  }
 ],
 "metadata": {
  "kernelspec": {
   "display_name": "Python 3",
   "language": "python",
   "name": "python3"
  },
  "language_info": {
   "codemirror_mode": {
    "name": "ipython",
    "version": 2
   },
   "file_extension": ".py",
   "mimetype": "text/x-python",
   "name": "python",
   "nbconvert_exporter": "python",
   "pygments_lexer": "ipython2",
   "version": "2.7.6"
  }
 },
 "nbformat": 4,
 "nbformat_minor": 0
}